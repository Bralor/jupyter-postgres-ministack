{
 "cells": [
  {
   "cell_type": "markdown",
   "metadata": {},
   "source": [
    "#### Novy notebook"
   ]
  },
  {
   "cell_type": "code",
   "execution_count": 1,
   "metadata": {},
   "outputs": [],
   "source": [
    "import os"
   ]
  },
  {
   "cell_type": "code",
   "execution_count": 2,
   "metadata": {},
   "outputs": [],
   "source": [
    "import pandas"
   ]
  },
  {
   "cell_type": "markdown",
   "metadata": {},
   "source": [
    "#### Náhodně generovaná česká jména"
   ]
  },
  {
   "cell_type": "code",
   "execution_count": 3,
   "metadata": {},
   "outputs": [],
   "source": [
    "random_names: list = [\n",
    "    \"Pavlína Fulínová\",\n",
    "    \"Anežka Vančurová\",\n",
    "    \"Adéla Hertlová\",\n",
    "    \"Pavel Vyhnis\",\n",
    "    \"Josef Feckanin\",\n",
    "    \"Petr Harant\",\n",
    "    \"Marie Miczová\",\n",
    "    \"Jan Tomášek\",\n",
    "    \"Blanka Sůvová\",\n",
    "    \"Lucie Kafková\",\n",
    "    \"Nikola Hoffmannová\",\n",
    "    \"Darina Sedláková\",\n",
    "    \"Iva Jeřábková\",\n",
    "    \"Veronika Jagerská\",\n",
    "    \"Helena Bayerová\",\n",
    "    \"Tomáš Zámečník\",\n",
    "    \"Hana Strašilová\",\n",
    "    \"Jana Králová\",\n",
    "    \"Hanna Dušková\",\n",
    "    \"Denisa Mirgová\"\n",
    "]"
   ]
  },
  {
   "cell_type": "markdown",
   "metadata": {},
   "source": [
    "#### Pouze křestní jména"
   ]
  },
  {
   "cell_type": "code",
   "execution_count": 4,
   "metadata": {},
   "outputs": [],
   "source": [
    "first_names: list = [name.split()[0] for name in random_names]"
   ]
  },
  {
   "cell_type": "code",
   "execution_count": 5,
   "metadata": {},
   "outputs": [],
   "source": [
    "first_names = tuple(first_names)"
   ]
  },
  {
   "cell_type": "markdown",
   "metadata": {},
   "source": [
    "#### Pouze příjmení"
   ]
  },
  {
   "cell_type": "code",
   "execution_count": 6,
   "metadata": {},
   "outputs": [],
   "source": [
    "last_names: list = [name.split()[1] for name in random_names]"
   ]
  },
  {
   "cell_type": "code",
   "execution_count": 7,
   "metadata": {},
   "outputs": [],
   "source": [
    "last_names = tuple(last_names)"
   ]
  },
  {
   "cell_type": "markdown",
   "metadata": {},
   "source": [
    "#### Firemní email"
   ]
  },
  {
   "cell_type": "code",
   "execution_count": 8,
   "metadata": {},
   "outputs": [
    {
     "data": {
      "text/plain": [
       "'pavlína.fulínová@nasefirma.cz'"
      ]
     },
     "execution_count": 8,
     "metadata": {},
     "output_type": "execute_result"
    }
   ],
   "source": [
    "domain_name: str = \"@nasefirma.cz\"\n",
    "\"\".join(\n",
    "    (\n",
    "        random_names[0].lower().replace(\" \", \".\"),\n",
    "        domain_name\n",
    "    )\n",
    ")"
   ]
  },
  {
   "cell_type": "code",
   "execution_count": 9,
   "metadata": {},
   "outputs": [],
   "source": [
    "email_addresses: list = [\n",
    "    \"\".join(\n",
    "        (\n",
    "            name.lower().replace(\" \", \".\"),\n",
    "            domain_name\n",
    "        )\n",
    "    )\n",
    "    for name in random_names\n",
    "]"
   ]
  },
  {
   "cell_type": "code",
   "execution_count": 10,
   "metadata": {},
   "outputs": [
    {
     "data": {
      "text/plain": [
       "['pavlína.fulínová@nasefirma.cz',\n",
       " 'anežka.vančurová@nasefirma.cz',\n",
       " 'adéla.hertlová@nasefirma.cz',\n",
       " 'pavel.vyhnis@nasefirma.cz',\n",
       " 'josef.feckanin@nasefirma.cz',\n",
       " 'petr.harant@nasefirma.cz',\n",
       " 'marie.miczová@nasefirma.cz',\n",
       " 'jan.tomášek@nasefirma.cz',\n",
       " 'blanka.sůvová@nasefirma.cz',\n",
       " 'lucie.kafková@nasefirma.cz',\n",
       " 'nikola.hoffmannová@nasefirma.cz',\n",
       " 'darina.sedláková@nasefirma.cz',\n",
       " 'iva.jeřábková@nasefirma.cz',\n",
       " 'veronika.jagerská@nasefirma.cz',\n",
       " 'helena.bayerová@nasefirma.cz',\n",
       " 'tomáš.zámečník@nasefirma.cz',\n",
       " 'hana.strašilová@nasefirma.cz',\n",
       " 'jana.králová@nasefirma.cz',\n",
       " 'hanna.dušková@nasefirma.cz',\n",
       " 'denisa.mirgová@nasefirma.cz']"
      ]
     },
     "execution_count": 10,
     "metadata": {},
     "output_type": "execute_result"
    }
   ],
   "source": [
    "email_addresses"
   ]
  },
  {
   "cell_type": "markdown",
   "metadata": {},
   "source": [
    "#### Nový dataframe"
   ]
  },
  {
   "cell_type": "code",
   "execution_count": 11,
   "metadata": {},
   "outputs": [],
   "source": [
    "data: dict = {\n",
    "    \"first_name\": first_names,\n",
    "    \"last_name\": last_names,\n",
    "    \"email_addresses\": tuple(email_addresses)\n",
    "}"
   ]
  },
  {
   "cell_type": "code",
   "execution_count": 12,
   "metadata": {},
   "outputs": [
    {
     "data": {
      "text/plain": [
       "{'first_name': ('Pavlína',\n",
       "  'Anežka',\n",
       "  'Adéla',\n",
       "  'Pavel',\n",
       "  'Josef',\n",
       "  'Petr',\n",
       "  'Marie',\n",
       "  'Jan',\n",
       "  'Blanka',\n",
       "  'Lucie',\n",
       "  'Nikola',\n",
       "  'Darina',\n",
       "  'Iva',\n",
       "  'Veronika',\n",
       "  'Helena',\n",
       "  'Tomáš',\n",
       "  'Hana',\n",
       "  'Jana',\n",
       "  'Hanna',\n",
       "  'Denisa'),\n",
       " 'last_name': ('Fulínová',\n",
       "  'Vančurová',\n",
       "  'Hertlová',\n",
       "  'Vyhnis',\n",
       "  'Feckanin',\n",
       "  'Harant',\n",
       "  'Miczová',\n",
       "  'Tomášek',\n",
       "  'Sůvová',\n",
       "  'Kafková',\n",
       "  'Hoffmannová',\n",
       "  'Sedláková',\n",
       "  'Jeřábková',\n",
       "  'Jagerská',\n",
       "  'Bayerová',\n",
       "  'Zámečník',\n",
       "  'Strašilová',\n",
       "  'Králová',\n",
       "  'Dušková',\n",
       "  'Mirgová'),\n",
       " 'email_addresses': ('pavlína.fulínová@nasefirma.cz',\n",
       "  'anežka.vančurová@nasefirma.cz',\n",
       "  'adéla.hertlová@nasefirma.cz',\n",
       "  'pavel.vyhnis@nasefirma.cz',\n",
       "  'josef.feckanin@nasefirma.cz',\n",
       "  'petr.harant@nasefirma.cz',\n",
       "  'marie.miczová@nasefirma.cz',\n",
       "  'jan.tomášek@nasefirma.cz',\n",
       "  'blanka.sůvová@nasefirma.cz',\n",
       "  'lucie.kafková@nasefirma.cz',\n",
       "  'nikola.hoffmannová@nasefirma.cz',\n",
       "  'darina.sedláková@nasefirma.cz',\n",
       "  'iva.jeřábková@nasefirma.cz',\n",
       "  'veronika.jagerská@nasefirma.cz',\n",
       "  'helena.bayerová@nasefirma.cz',\n",
       "  'tomáš.zámečník@nasefirma.cz',\n",
       "  'hana.strašilová@nasefirma.cz',\n",
       "  'jana.králová@nasefirma.cz',\n",
       "  'hanna.dušková@nasefirma.cz',\n",
       "  'denisa.mirgová@nasefirma.cz')}"
      ]
     },
     "execution_count": 12,
     "metadata": {},
     "output_type": "execute_result"
    }
   ],
   "source": [
    "data"
   ]
  },
  {
   "cell_type": "code",
   "execution_count": 13,
   "metadata": {},
   "outputs": [],
   "source": [
    "employees_df = pandas.DataFrame(data=data)"
   ]
  },
  {
   "cell_type": "code",
   "execution_count": 14,
   "metadata": {},
   "outputs": [
    {
     "name": "stdout",
     "output_type": "stream",
     "text": [
      "<class 'pandas.core.frame.DataFrame'>\n",
      "RangeIndex: 20 entries, 0 to 19\n",
      "Data columns (total 3 columns):\n",
      " #   Column           Non-Null Count  Dtype \n",
      "---  ------           --------------  ----- \n",
      " 0   first_name       20 non-null     object\n",
      " 1   last_name        20 non-null     object\n",
      " 2   email_addresses  20 non-null     object\n",
      "dtypes: object(3)\n",
      "memory usage: 608.0+ bytes\n"
     ]
    }
   ],
   "source": [
    "employees_df.info()"
   ]
  },
  {
   "cell_type": "code",
   "execution_count": 15,
   "metadata": {},
   "outputs": [
    {
     "data": {
      "text/html": [
       "<div>\n",
       "<style scoped>\n",
       "    .dataframe tbody tr th:only-of-type {\n",
       "        vertical-align: middle;\n",
       "    }\n",
       "\n",
       "    .dataframe tbody tr th {\n",
       "        vertical-align: top;\n",
       "    }\n",
       "\n",
       "    .dataframe thead th {\n",
       "        text-align: right;\n",
       "    }\n",
       "</style>\n",
       "<table border=\"1\" class=\"dataframe\">\n",
       "  <thead>\n",
       "    <tr style=\"text-align: right;\">\n",
       "      <th></th>\n",
       "      <th>first_name</th>\n",
       "      <th>last_name</th>\n",
       "      <th>email_addresses</th>\n",
       "    </tr>\n",
       "  </thead>\n",
       "  <tbody>\n",
       "    <tr>\n",
       "      <th>0</th>\n",
       "      <td>Pavlína</td>\n",
       "      <td>Fulínová</td>\n",
       "      <td>pavlína.fulínová@nasefirma.cz</td>\n",
       "    </tr>\n",
       "    <tr>\n",
       "      <th>1</th>\n",
       "      <td>Anežka</td>\n",
       "      <td>Vančurová</td>\n",
       "      <td>anežka.vančurová@nasefirma.cz</td>\n",
       "    </tr>\n",
       "  </tbody>\n",
       "</table>\n",
       "</div>"
      ],
      "text/plain": [
       "  first_name  last_name                email_addresses\n",
       "0    Pavlína   Fulínová  pavlína.fulínová@nasefirma.cz\n",
       "1     Anežka  Vančurová  anežka.vančurová@nasefirma.cz"
      ]
     },
     "execution_count": 15,
     "metadata": {},
     "output_type": "execute_result"
    }
   ],
   "source": [
    "employees_df.head(2)"
   ]
  },
  {
   "cell_type": "markdown",
   "metadata": {},
   "source": [
    "#### Uložit do .csv souboru"
   ]
  },
  {
   "cell_type": "code",
   "execution_count": 16,
   "metadata": {},
   "outputs": [
    {
     "name": "stdout",
     "output_type": "stream",
     "text": [
      "total 0\r\n"
     ]
    }
   ],
   "source": [
    "%ls -l ../shared"
   ]
  },
  {
   "cell_type": "code",
   "execution_count": 17,
   "metadata": {},
   "outputs": [],
   "source": [
    "employees_df.to_csv(\n",
    "    \"../shared/employees.csv\",\n",
    "    sep=\";\",\n",
    "    encoding=\"utf-8\",\n",
    "    index=False\n",
    ")"
   ]
  },
  {
   "cell_type": "markdown",
   "metadata": {},
   "source": [
    "---"
   ]
  }
 ],
 "metadata": {
  "kernelspec": {
   "display_name": "Python 3",
   "language": "python",
   "name": "python3"
  },
  "language_info": {
   "codemirror_mode": {
    "name": "ipython",
    "version": 3
   },
   "file_extension": ".py",
   "mimetype": "text/x-python",
   "name": "python",
   "nbconvert_exporter": "python",
   "pygments_lexer": "ipython3",
   "version": "3.8.6"
  }
 },
 "nbformat": 4,
 "nbformat_minor": 4
}
